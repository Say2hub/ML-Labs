{
  "nbformat": 4,
  "nbformat_minor": 0,
  "metadata": {
    "colab": {
      "provenance": []
    },
    "kernelspec": {
      "name": "python3",
      "display_name": "Python 3"
    },
    "language_info": {
      "name": "python"
    }
  },
  "cells": [
    {
      "cell_type": "code",
      "execution_count": null,
      "metadata": {
        "id": "qXjRAR-LesQu"
      },
      "outputs": [],
      "source": []
    },
    {
      "cell_type": "code",
      "source": [
        "\n",
        "\n",
        "from sklearn.datasets import load_iris\n",
        "from sklearn.model_selection import train_test_split\n",
        "from sklearn.ensemble import AdaBoostClassifier\n",
        "from sklearn.svm import SVC\n",
        "from sklearn.tree import DecisionTreeClassifier\n",
        "\n",
        "iris = load_iris()\n",
        "X = iris.data\n",
        "y = iris.target\n",
        "\n",
        "X_train, X_test, y_train, y_test = train_test_split(X, y, test_size=0.2, random_state=42)\n",
        "\n",
        "from sklearn.tree import DecisionTreeClassifier\n",
        "clf = AdaBoostClassifier(n_estimators=50, base_estimator=DecisionTreeClassifier(), learning_rate=1)\n",
        "clf.fit(X_train, y_train)\n",
        "score = clf.score(X_test, y_test)\n",
        "print(score)\n"
      ],
      "metadata": {
        "colab": {
          "base_uri": "https://localhost:8080/"
        },
        "id": "FIX803ale7fL",
        "outputId": "6ccab611-d1cc-4dfe-d050-bc32eca8150a"
      },
      "execution_count": null,
      "outputs": [
        {
          "output_type": "stream",
          "name": "stdout",
          "text": [
            "1.0\n"
          ]
        },
        {
          "output_type": "stream",
          "name": "stderr",
          "text": [
            "/usr/local/lib/python3.10/dist-packages/sklearn/ensemble/_base.py:166: FutureWarning: `base_estimator` was renamed to `estimator` in version 1.2 and will be removed in 1.4.\n",
            "  warnings.warn(\n"
          ]
        }
      ]
    },
    {
      "cell_type": "code",
      "source": [
        "\n",
        "iris = load_iris()\n",
        "X = iris.data\n",
        "y = iris.target\n",
        "\n",
        "X_train, X_test, y_train, y_test = train_test_split(X, y, test_size=0.2, random_state=42)\n",
        "\n",
        "clf = AdaBoostClassifier(n_estimators=50, estimator=SVC(kernel='linear'), learning_rate=1, algorithm='SAMME')\n",
        "clf.fit(X_train, y_train)\n",
        "\n",
        "score = clf.score(X_test, y_test)\n",
        "print(score)\n"
      ],
      "metadata": {
        "colab": {
          "base_uri": "https://localhost:8080/"
        },
        "id": "GbjDeRPBgh2a",
        "outputId": "ddb7020d-5076-42e1-9bbf-7ef01ad20c9f"
      },
      "execution_count": null,
      "outputs": [
        {
          "output_type": "stream",
          "name": "stdout",
          "text": [
            "0.9666666666666667\n"
          ]
        }
      ]
    },
    {
      "cell_type": "code",
      "source": [
        "\n",
        "\n",
        "from sklearn.naive_bayes import GaussianNB\n",
        "\n",
        "iris = load_iris()\n",
        "X = iris.data\n",
        "y = iris.target\n",
        "\n",
        "X_train, X_test, y_train, y_test = train_test_split(X, y, test_size=0.2, random_state=42)\n",
        "\n",
        "clf = AdaBoostClassifier(n_estimators=50, estimator=GaussianNB(), learning_rate=1)\n",
        "clf.fit(X_train, y_train)\n",
        "\n",
        "score = clf.score(X_test, y_test)\n",
        "print(score)\n"
      ],
      "metadata": {
        "colab": {
          "base_uri": "https://localhost:8080/"
        },
        "id": "HX5i1UkRh1cF",
        "outputId": "635b3238-b900-4803-b204-ff8f7a2e4069"
      },
      "execution_count": null,
      "outputs": [
        {
          "output_type": "stream",
          "name": "stdout",
          "text": [
            "1.0\n"
          ]
        }
      ]
    },
    {
      "cell_type": "code",
      "source": [
        "\n",
        "from numpy import mean\n",
        "from numpy import std\n",
        "from sklearn.datasets import make_classification\n",
        "from sklearn.model_selection import cross_val_score\n",
        "from sklearn.model_selection import RepeatedStratifiedKFold\n",
        "from sklearn.ensemble import AdaBoostClassifier\n",
        "from sklearn.datasets import make_classification\n",
        "X, y = make_classification(n_samples=1000, n_features=20, n_informative=15, n_redundant=5, random_state=6)\n",
        "model = AdaBoostClassifier()\n",
        "cv = RepeatedStratifiedKFold(n_splits=10, n_repeats=3, random_state=1)\n",
        "n_scores = cross_val_score(model, X, y, scoring='accuracy', cv=cv, n_jobs=-1, error_score='raise')\n",
        "print('Accuracy: %.3f (%.3f)' % (mean(n_scores), std(n_scores)))"
      ],
      "metadata": {
        "colab": {
          "base_uri": "https://localhost:8080/"
        },
        "id": "IvETsIdWjmdL",
        "outputId": "a8efd846-a419-4b02-bd0d-6234ce9dd092"
      },
      "execution_count": null,
      "outputs": [
        {
          "output_type": "stream",
          "name": "stdout",
          "text": [
            "Accuracy: 0.806 (0.041)\n"
          ]
        }
      ]
    },
    {
      "cell_type": "code",
      "source": [
        "#make predictions using adaboost for classification\n",
        "from sklearn.datasets import make_classification\n",
        "from sklearn.ensemble import AdaBoostClassifier\n",
        "from sklearn.datasets import make_classification\n",
        "\n",
        "# Define dataset\n",
        "X, y = make_classification(n_samples=1000, n_features=20, n_informative=15, n_redundant=5, random_state=6)\n",
        "model = AdaBoostClassifier()\n",
        "model.fit(X, y)\n",
        "row = X[1].reshape(1,-1)\n",
        "yhat = model.predict(row)\n",
        "print('Predicted Class: %d' % yhat[0])"
      ],
      "metadata": {
        "colab": {
          "base_uri": "https://localhost:8080/"
        },
        "id": "65M1WkjIlLBM",
        "outputId": "e002349e-bd80-4025-dad1-c5b7b7a834ee"
      },
      "execution_count": null,
      "outputs": [
        {
          "output_type": "stream",
          "name": "stdout",
          "text": [
            "Predicted Class: 1\n"
          ]
        }
      ]
    },
    {
      "cell_type": "code",
      "source": [
        "\n",
        "iris = load_iris()\n",
        "X = iris.data\n",
        "y = iris.target\n",
        "\n",
        "X_train, X_test, y_train, y_test = train_test_split(X, y, test_size=0.2, random_state=42)\n",
        "\n",
        "clf = AdaBoostClassifier(n_estimators=50, estimator=LogisticRegression(), learning_rate=1)\n",
        "clf.fit(X_train, y_train)\n",
        "\n",
        "score = clf.score(X_test, y_test)\n",
        "print(score)\n"
      ],
      "metadata": {
        "colab": {
          "base_uri": "https://localhost:8080/"
        },
        "id": "ZXT1C-f4nunU",
        "outputId": "f9345153-94d8-4c7a-a70b-13767920fbb7"
      },
      "execution_count": null,
      "outputs": [
        {
          "output_type": "stream",
          "name": "stdout",
          "text": [
            "0.9666666666666667\n"
          ]
        }
      ]
    },
    {
      "cell_type": "code",
      "source": [
        "from numpy import mean\n",
        "from numpy import std\n",
        "from sklearn.datasets import make_regression\n",
        "from sklearn.model_selection import cross_val_score\n",
        "from sklearn.model_selection import RepeatedKFold\n",
        "from sklearn.ensemble import AdaBoostRegressor\n",
        "\n",
        "X, y = make_regression(n_samples=1000, n_features=20, n_informative=15, noise=0.1, random_state=6)\n",
        "model = AdaBoostRegressor()\n",
        "cv = RepeatedKFold(n_splits=10, n_repeats=3, random_state=42)\n",
        "scores = cross_val_score(model, X, y, scoring='neg_mean_absolute_error', cv=cv, n_jobs=-1)\n",
        "print(\"Mean Absolute Error: %.3f (%.3f)\" % (mean(scores), std(scores)))\n"
      ],
      "metadata": {
        "colab": {
          "base_uri": "https://localhost:8080/"
        },
        "id": "B1F5PObqpXhc",
        "outputId": "2420fb39-8479-41c1-afbe-ce8bf294b793"
      },
      "execution_count": null,
      "outputs": [
        {
          "output_type": "stream",
          "name": "stdout",
          "text": [
            "Mean Absolute Error: -73.037 (5.181)\n"
          ]
        }
      ]
    },
    {
      "cell_type": "code",
      "source": [
        "def get_datset():\n",
        "  X, y = make_classification(n_samples=1000, n_features=20, n_informative=15, n_redundant=5, random_state=6)\n",
        "  return X,y\n",
        "def get_models():\n",
        "  models=dict()\n",
        "  for i in range(1,11):\n",
        "    base=DecisionTreeClassifier(max_depth=i)\n",
        "    models[str(i)]=AdaBoostClassifier(base_estimator=base)\n",
        "  return models\n",
        "def evaluate_model(model,X,y):\n",
        "  cv = RepeatedKFold(n_splits=10, n_repeats=3, random_state=42)\n",
        "  scores = cross_val_score(model, X, y, scoring='accuracy', cv=cv, n_jobs=-1)\n",
        "  return scores\n",
        "\n",
        "X,y = get_datset()\n",
        "models=get_models()\n",
        "results, names = list(),list()\n",
        "for name,model in models.items():\n",
        "  scores= evaluate_model(model,X,y)\n",
        "  results.append(scores)\n",
        "  names.append(name)\n",
        "  print('>%s %.3f(%.3f)'%(name,mean(scores),std(scores)))\n",
        "import matplotlib.pyplot as plt\n",
        "plt.boxplot(results,labels=names,showmeans=True)\n",
        "plt.show()"
      ],
      "metadata": {
        "colab": {
          "base_uri": "https://localhost:8080/",
          "height": 604
        },
        "id": "swE8dJmdrttV",
        "outputId": "db4104cb-9714-4988-8521-54368faee523"
      },
      "execution_count": null,
      "outputs": [
        {
          "output_type": "stream",
          "name": "stdout",
          "text": [
            ">1 0.794(0.039)\n",
            ">2 0.862(0.030)\n",
            ">3 0.866(0.036)\n",
            ">4 0.899(0.028)\n",
            ">5 0.916(0.028)\n",
            ">6 0.925(0.026)\n",
            ">7 0.935(0.020)\n",
            ">8 0.928(0.023)\n",
            ">9 0.931(0.029)\n",
            ">10 0.932(0.021)\n"
          ]
        },
        {
          "output_type": "display_data",
          "data": {
            "text/plain": [
              "<Figure size 640x480 with 1 Axes>"
            ],
            "image/png": "[encoded data removed]"
          },
          "metadata": {}
        }
      ]
    },
    {
      "cell_type": "code",
      "source": [
        "from sklearn.datasets import make_regression\n",
        "\n",
        "X, y = make_regression(n_samples=1000, n_features=20, noise=0.1, random_state=1)\n",
        "\n",
        "print(X.shape, y.shape)\n",
        "\n",
        "from numpy import arange\n",
        "\n",
        "import matplotlib.pyplot as plt\n",
        "\n",
        "def get_dataset():\n",
        "  X, y = make_classification(n_samples = 1000, n_features = 20, n_informative =15, n_redundant = 5, random_state = 6)\n",
        "  return X,y\n",
        "\n",
        "def get_models():\n",
        "  models = dict()\n",
        "  for i in arange(0.1,2.1,0.1):\n",
        "    key = \"%.3f\"%i\n",
        "    models[key] = AdaBoostClassifier(learning_rate = i)\n",
        "  return models\n",
        "\n",
        "def evaluate_model(model,X,y):\n",
        "  cv = RepeatedStratifiedKFold(n_splits = 10, n_repeats = 3, random_state = 1)\n",
        "  scores = cross_val_score(model, X, y, scoring = 'accuracy', cv=cv, n_jobs =-1, error_score = 'raise')\n",
        "  return scores\n",
        "\n",
        "X,y = get_dataset()\n",
        "\n",
        "models = get_models()\n",
        "\n",
        "results, names = list(), list()\n",
        "for name, model in models.items():\n",
        "\n",
        "  scores = evaluate_model(model, X, y)\n",
        "  results.append(scores)\n",
        "  names.append(name)\n",
        "  print(\">%s %.3f %.3f\" % (name, mean(scores), std(scores)))\n",
        "\n",
        "plt.boxplot(results, labels = names, showmeans = True)\n",
        "plt.xticks(rotation = 45)\n",
        "plt.show()"
      ],
      "metadata": {
        "colab": {
          "base_uri": "https://localhost:8080/",
          "height": 819
        },
        "id": "0ifBuTF3zCON",
        "outputId": "98b67fce-7ac9-4129-9ced-74ef60a653af"
      },
      "execution_count": null,
      "outputs": [
        {
          "output_type": "stream",
          "name": "stdout",
          "text": [
            "(1000, 20) (1000,)\n",
            ">0.100 0.767 0.049\n",
            ">0.200 0.786 0.042\n",
            ">0.300 0.802 0.040\n",
            ">0.400 0.798 0.037\n",
            ">0.500 0.805 0.042\n",
            ">0.600 0.795 0.031\n",
            ">0.700 0.799 0.035\n",
            ">0.800 0.801 0.033\n",
            ">0.900 0.805 0.032\n",
            ">1.000 0.806 0.041\n",
            ">1.100 0.801 0.037\n",
            ">1.200 0.800 0.030\n",
            ">1.300 0.799 0.041\n",
            ">1.400 0.793 0.041\n",
            ">1.500 0.790 0.040\n",
            ">1.600 0.775 0.034\n",
            ">1.700 0.767 0.054\n",
            ">1.800 0.768 0.040\n",
            ">1.900 0.736 0.047\n",
            ">2.000 0.682 0.048\n"
          ]
        },
        {
          "output_type": "display_data",
          "data": {
            "text/plain": [
              "<Figure size 640x480 with 1 Axes>"
            ],
            "image/png": "[encoded data removed]"
          },
          "metadata": {}
        }
      ]
    }
  ]
}